{
 "cells": [
  {
   "cell_type": "markdown",
   "metadata": {},
   "source": [
    "# AUS Real Estate Sales September 2018 to June 2020\n",
    "### Recorded property sales in major Australian Capital Cities\n",
    "Kaggle: https://www.kaggle.com/htagholdings/aus-real-estate-sales-march-2019-to-april-2020"
   ]
  },
  {
   "cell_type": "markdown",
   "metadata": {},
   "source": [
    "##### Columns:\n",
    "1. date_sold - Date of sale\n",
    "2. price - Price for which the property was sold for. Null if unknown.\n",
    "3. suburb - Suburb of sale\n",
    "4. city_name - Name of the city\n",
    "5. state - State\n",
    "6. lat - Latitude\n",
    "7. lon - Longitude\n",
    "8. bedrooms - Number of bedrooms\n",
    "9. property_typ - Type of property i.e. house, unit, townhouse\n",
    "10. oc_pid - ID of the locality (suburb)\n",
    "11. lga_pid - ID of the LGA (council area)"
   ]
  },
  {
   "cell_type": "code",
   "execution_count": 1,
   "metadata": {},
   "outputs": [],
   "source": [
    "import numpy as np\n",
    "import pandas as pd\n",
    "import pickle\n",
    "\n",
    "import matplotlib\n",
    "import matplotlib.pyplot as plt\n",
    "import seaborn as sns\n",
    "\n",
    "%matplotlib inline\n",
    "%config InlineBackend.figure_format = 'svg'"
   ]
  },
  {
   "cell_type": "code",
   "execution_count": 2,
   "metadata": {},
   "outputs": [],
   "source": [
    "DATASET_PATH = 'datasets/aus-property-sales-sep2018-april2020.csv'\n",
    "PREPARED_DATASET_PATH = 'datasets/aus-property-sales-sep2018-april2020_prepared.csv'\n",
    "TRAIN_DATASET_PATH = 'datasets/aus-property-sales-sep2018-april2020_train.csv'\n",
    "SCALER_FILE_PATH = 'scaler.pkl'\n",
    "MODEL_FILE_PATH = 'models/model.pkl' "
   ]
  },
  {
   "cell_type": "markdown",
   "metadata": {},
   "source": [
    "### Loading dataset"
   ]
  },
  {
   "cell_type": "code",
   "execution_count": 3,
   "metadata": {},
   "outputs": [],
   "source": [
    "df = pd.read_csv(DATASET_PATH)"
   ]
  },
  {
   "cell_type": "code",
   "execution_count": 4,
   "metadata": {},
   "outputs": [
    {
     "data": {
      "text/plain": [
       "(320334, 11)"
      ]
     },
     "execution_count": 4,
     "metadata": {},
     "output_type": "execute_result"
    }
   ],
   "source": [
    "df.shape"
   ]
  },
  {
   "cell_type": "code",
   "execution_count": 5,
   "metadata": {},
   "outputs": [
    {
     "data": {
      "text/html": [
       "<div>\n",
       "<style scoped>\n",
       "    .dataframe tbody tr th:only-of-type {\n",
       "        vertical-align: middle;\n",
       "    }\n",
       "\n",
       "    .dataframe tbody tr th {\n",
       "        vertical-align: top;\n",
       "    }\n",
       "\n",
       "    .dataframe thead th {\n",
       "        text-align: right;\n",
       "    }\n",
       "</style>\n",
       "<table border=\"1\" class=\"dataframe\">\n",
       "  <thead>\n",
       "    <tr style=\"text-align: right;\">\n",
       "      <th></th>\n",
       "      <th>date_sold</th>\n",
       "      <th>price</th>\n",
       "      <th>suburb</th>\n",
       "      <th>city_name</th>\n",
       "      <th>state</th>\n",
       "      <th>lat</th>\n",
       "      <th>lon</th>\n",
       "      <th>bedrooms</th>\n",
       "      <th>property_type</th>\n",
       "      <th>loc_pid</th>\n",
       "      <th>lga_pid</th>\n",
       "    </tr>\n",
       "  </thead>\n",
       "  <tbody>\n",
       "    <tr>\n",
       "      <th>0</th>\n",
       "      <td>2018-09-18 00:00:00</td>\n",
       "      <td>NaN</td>\n",
       "      <td>Darling Point</td>\n",
       "      <td>Sydney</td>\n",
       "      <td>NSW</td>\n",
       "      <td>-33.869565</td>\n",
       "      <td>151.241317</td>\n",
       "      <td>3</td>\n",
       "      <td>unit</td>\n",
       "      <td>NSW1221</td>\n",
       "      <td>NSW180</td>\n",
       "    </tr>\n",
       "    <tr>\n",
       "      <th>1</th>\n",
       "      <td>2018-09-24 00:00:00</td>\n",
       "      <td>NaN</td>\n",
       "      <td>Darling Point</td>\n",
       "      <td>Sydney</td>\n",
       "      <td>NSW</td>\n",
       "      <td>-33.872179</td>\n",
       "      <td>151.239726</td>\n",
       "      <td>3</td>\n",
       "      <td>unit</td>\n",
       "      <td>NSW1221</td>\n",
       "      <td>NSW180</td>\n",
       "    </tr>\n",
       "    <tr>\n",
       "      <th>2</th>\n",
       "      <td>2018-09-26 00:00:00</td>\n",
       "      <td>1730000.0</td>\n",
       "      <td>Darling Point</td>\n",
       "      <td>Sydney</td>\n",
       "      <td>NSW</td>\n",
       "      <td>-33.868386</td>\n",
       "      <td>151.237471</td>\n",
       "      <td>2</td>\n",
       "      <td>unit</td>\n",
       "      <td>NSW1221</td>\n",
       "      <td>NSW180</td>\n",
       "    </tr>\n",
       "    <tr>\n",
       "      <th>3</th>\n",
       "      <td>2018-09-26 00:00:00</td>\n",
       "      <td>1928000.0</td>\n",
       "      <td>Darling Point</td>\n",
       "      <td>Sydney</td>\n",
       "      <td>NSW</td>\n",
       "      <td>-33.875465</td>\n",
       "      <td>151.236280</td>\n",
       "      <td>3</td>\n",
       "      <td>unit</td>\n",
       "      <td>NSW1221</td>\n",
       "      <td>NSW180</td>\n",
       "    </tr>\n",
       "    <tr>\n",
       "      <th>4</th>\n",
       "      <td>2018-10-02 00:00:00</td>\n",
       "      <td>1475000.0</td>\n",
       "      <td>Darling Point</td>\n",
       "      <td>Sydney</td>\n",
       "      <td>NSW</td>\n",
       "      <td>-33.875734</td>\n",
       "      <td>151.233575</td>\n",
       "      <td>3</td>\n",
       "      <td>unit</td>\n",
       "      <td>NSW1221</td>\n",
       "      <td>NSW180</td>\n",
       "    </tr>\n",
       "  </tbody>\n",
       "</table>\n",
       "</div>"
      ],
      "text/plain": [
       "             date_sold      price         suburb city_name state        lat  \\\n",
       "0  2018-09-18 00:00:00        NaN  Darling Point    Sydney   NSW -33.869565   \n",
       "1  2018-09-24 00:00:00        NaN  Darling Point    Sydney   NSW -33.872179   \n",
       "2  2018-09-26 00:00:00  1730000.0  Darling Point    Sydney   NSW -33.868386   \n",
       "3  2018-09-26 00:00:00  1928000.0  Darling Point    Sydney   NSW -33.875465   \n",
       "4  2018-10-02 00:00:00  1475000.0  Darling Point    Sydney   NSW -33.875734   \n",
       "\n",
       "          lon  bedrooms property_type  loc_pid lga_pid  \n",
       "0  151.241317         3          unit  NSW1221  NSW180  \n",
       "1  151.239726         3          unit  NSW1221  NSW180  \n",
       "2  151.237471         2          unit  NSW1221  NSW180  \n",
       "3  151.236280         3          unit  NSW1221  NSW180  \n",
       "4  151.233575         3          unit  NSW1221  NSW180  "
      ]
     },
     "execution_count": 5,
     "metadata": {},
     "output_type": "execute_result"
    }
   ],
   "source": [
    "df.head()"
   ]
  },
  {
   "cell_type": "code",
   "execution_count": 6,
   "metadata": {},
   "outputs": [
    {
     "data": {
      "text/html": [
       "<div>\n",
       "<style scoped>\n",
       "    .dataframe tbody tr th:only-of-type {\n",
       "        vertical-align: middle;\n",
       "    }\n",
       "\n",
       "    .dataframe tbody tr th {\n",
       "        vertical-align: top;\n",
       "    }\n",
       "\n",
       "    .dataframe thead th {\n",
       "        text-align: right;\n",
       "    }\n",
       "</style>\n",
       "<table border=\"1\" class=\"dataframe\">\n",
       "  <thead>\n",
       "    <tr style=\"text-align: right;\">\n",
       "      <th></th>\n",
       "      <th>date_sold</th>\n",
       "      <th>price</th>\n",
       "      <th>suburb</th>\n",
       "      <th>city_name</th>\n",
       "      <th>state</th>\n",
       "      <th>lat</th>\n",
       "      <th>lon</th>\n",
       "      <th>bedrooms</th>\n",
       "      <th>property_type</th>\n",
       "      <th>loc_pid</th>\n",
       "      <th>lga_pid</th>\n",
       "    </tr>\n",
       "  </thead>\n",
       "  <tbody>\n",
       "    <tr>\n",
       "      <th>320329</th>\n",
       "      <td>2019-09-09 00:00:00</td>\n",
       "      <td>NaN</td>\n",
       "      <td>Taylor</td>\n",
       "      <td>Canberra</td>\n",
       "      <td>ACT</td>\n",
       "      <td>-35.152128</td>\n",
       "      <td>149.099435</td>\n",
       "      <td>3</td>\n",
       "      <td>townhouse</td>\n",
       "      <td>ACT934</td>\n",
       "      <td>ACT</td>\n",
       "    </tr>\n",
       "    <tr>\n",
       "      <th>320330</th>\n",
       "      <td>2019-09-10 00:00:00</td>\n",
       "      <td>549900.0</td>\n",
       "      <td>Taylor</td>\n",
       "      <td>Canberra</td>\n",
       "      <td>ACT</td>\n",
       "      <td>-35.151968</td>\n",
       "      <td>149.107229</td>\n",
       "      <td>3</td>\n",
       "      <td>townhouse</td>\n",
       "      <td>ACT934</td>\n",
       "      <td>ACT</td>\n",
       "    </tr>\n",
       "    <tr>\n",
       "      <th>320331</th>\n",
       "      <td>2019-09-10 00:00:00</td>\n",
       "      <td>499900.0</td>\n",
       "      <td>Taylor</td>\n",
       "      <td>Canberra</td>\n",
       "      <td>ACT</td>\n",
       "      <td>-35.151968</td>\n",
       "      <td>149.107229</td>\n",
       "      <td>3</td>\n",
       "      <td>townhouse</td>\n",
       "      <td>ACT934</td>\n",
       "      <td>ACT</td>\n",
       "    </tr>\n",
       "    <tr>\n",
       "      <th>320332</th>\n",
       "      <td>2020-03-10 00:00:00</td>\n",
       "      <td>434000.0</td>\n",
       "      <td>Taylor</td>\n",
       "      <td>Canberra</td>\n",
       "      <td>ACT</td>\n",
       "      <td>-35.152617</td>\n",
       "      <td>149.103578</td>\n",
       "      <td>3</td>\n",
       "      <td>townhouse</td>\n",
       "      <td>ACT934</td>\n",
       "      <td>ACT</td>\n",
       "    </tr>\n",
       "    <tr>\n",
       "      <th>320333</th>\n",
       "      <td>2020-05-19 00:00:00</td>\n",
       "      <td>420000.0</td>\n",
       "      <td>Taylor</td>\n",
       "      <td>Canberra</td>\n",
       "      <td>ACT</td>\n",
       "      <td>-35.151741</td>\n",
       "      <td>149.102781</td>\n",
       "      <td>2</td>\n",
       "      <td>townhouse</td>\n",
       "      <td>ACT934</td>\n",
       "      <td>ACT</td>\n",
       "    </tr>\n",
       "  </tbody>\n",
       "</table>\n",
       "</div>"
      ],
      "text/plain": [
       "                  date_sold     price  suburb city_name state        lat  \\\n",
       "320329  2019-09-09 00:00:00       NaN  Taylor  Canberra   ACT -35.152128   \n",
       "320330  2019-09-10 00:00:00  549900.0  Taylor  Canberra   ACT -35.151968   \n",
       "320331  2019-09-10 00:00:00  499900.0  Taylor  Canberra   ACT -35.151968   \n",
       "320332  2020-03-10 00:00:00  434000.0  Taylor  Canberra   ACT -35.152617   \n",
       "320333  2020-05-19 00:00:00  420000.0  Taylor  Canberra   ACT -35.151741   \n",
       "\n",
       "               lon  bedrooms property_type loc_pid lga_pid  \n",
       "320329  149.099435         3     townhouse  ACT934     ACT  \n",
       "320330  149.107229         3     townhouse  ACT934     ACT  \n",
       "320331  149.107229         3     townhouse  ACT934     ACT  \n",
       "320332  149.103578         3     townhouse  ACT934     ACT  \n",
       "320333  149.102781         2     townhouse  ACT934     ACT  "
      ]
     },
     "execution_count": 6,
     "metadata": {},
     "output_type": "execute_result"
    }
   ],
   "source": [
    "df.tail()"
   ]
  },
  {
   "cell_type": "code",
   "execution_count": 7,
   "metadata": {},
   "outputs": [
    {
     "name": "stdout",
     "output_type": "stream",
     "text": [
      "<class 'pandas.core.frame.DataFrame'>\n",
      "RangeIndex: 320334 entries, 0 to 320333\n",
      "Data columns (total 11 columns):\n",
      " #   Column         Non-Null Count   Dtype  \n",
      "---  ------         --------------   -----  \n",
      " 0   date_sold      320334 non-null  object \n",
      " 1   price          257826 non-null  float64\n",
      " 2   suburb         320334 non-null  object \n",
      " 3   city_name      320334 non-null  object \n",
      " 4   state          320334 non-null  object \n",
      " 5   lat            320256 non-null  float64\n",
      " 6   lon            320256 non-null  float64\n",
      " 7   bedrooms       320334 non-null  int64  \n",
      " 8   property_type  320334 non-null  object \n",
      " 9   loc_pid        320334 non-null  object \n",
      " 10  lga_pid        320334 non-null  object \n",
      "dtypes: float64(3), int64(1), object(7)\n",
      "memory usage: 26.9+ MB\n"
     ]
    }
   ],
   "source": [
    "df.info()"
   ]
  },
  {
   "cell_type": "markdown",
   "metadata": {},
   "source": [
    "### Filling NaN values"
   ]
  },
  {
   "cell_type": "code",
   "execution_count": 19,
   "metadata": {},
   "outputs": [],
   "source": [
    "for i in df.index[df['lat'].isnull()]:\n",
    "    loc_pid = df.iloc[i, 9]\n",
    "    df.iat[i, 5] = df.loc[(df['loc_pid'] == loc_pid) & (~df['lat'].isnull()), 'lat'].median()"
   ]
  },
  {
   "cell_type": "code",
   "execution_count": 20,
   "metadata": {},
   "outputs": [],
   "source": [
    "for i in df.index[df['lon'].isnull()]:\n",
    "    loc_pid = df.iloc[i, 9]\n",
    "    df.iat[i, 6] = df.loc[(df['loc_pid'] == loc_pid) & (~df['lon'].isnull()), 'lon'].median()"
   ]
  },
  {
   "cell_type": "code",
   "execution_count": 21,
   "metadata": {},
   "outputs": [
    {
     "name": "stdout",
     "output_type": "stream",
     "text": [
      "<class 'pandas.core.frame.DataFrame'>\n",
      "RangeIndex: 320334 entries, 0 to 320333\n",
      "Data columns (total 11 columns):\n",
      " #   Column         Non-Null Count   Dtype  \n",
      "---  ------         --------------   -----  \n",
      " 0   date_sold      320334 non-null  object \n",
      " 1   price          257826 non-null  float64\n",
      " 2   suburb         320334 non-null  object \n",
      " 3   city_name      320334 non-null  object \n",
      " 4   state          320334 non-null  object \n",
      " 5   lat            320333 non-null  float64\n",
      " 6   lon            320333 non-null  float64\n",
      " 7   bedrooms       320334 non-null  int64  \n",
      " 8   property_type  320334 non-null  object \n",
      " 9   loc_pid        320334 non-null  object \n",
      " 10  lga_pid        320334 non-null  object \n",
      "dtypes: float64(3), int64(1), object(7)\n",
      "memory usage: 26.9+ MB\n"
     ]
    }
   ],
   "source": [
    "df.info()"
   ]
  },
  {
   "cell_type": "code",
   "execution_count": 24,
   "metadata": {},
   "outputs": [],
   "source": [
    "df.loc[df['lat'].isnull()] = df['lat'].median()"
   ]
  },
  {
   "cell_type": "code",
   "execution_count": 25,
   "metadata": {},
   "outputs": [],
   "source": [
    "df.loc[df['lon'].isnull()] = df['lon'].median()"
   ]
  },
  {
   "cell_type": "code",
   "execution_count": 26,
   "metadata": {},
   "outputs": [
    {
     "name": "stdout",
     "output_type": "stream",
     "text": [
      "<class 'pandas.core.frame.DataFrame'>\n",
      "RangeIndex: 320334 entries, 0 to 320333\n",
      "Data columns (total 11 columns):\n",
      " #   Column         Non-Null Count   Dtype  \n",
      "---  ------         --------------   -----  \n",
      " 0   date_sold      320334 non-null  object \n",
      " 1   price          257826 non-null  float64\n",
      " 2   suburb         320334 non-null  object \n",
      " 3   city_name      320334 non-null  object \n",
      " 4   state          320334 non-null  object \n",
      " 5   lat            320334 non-null  float64\n",
      " 6   lon            320334 non-null  float64\n",
      " 7   bedrooms       320334 non-null  float64\n",
      " 8   property_type  320334 non-null  object \n",
      " 9   loc_pid        320334 non-null  object \n",
      " 10  lga_pid        320334 non-null  object \n",
      "dtypes: float64(4), object(7)\n",
      "memory usage: 26.9+ MB\n"
     ]
    }
   ],
   "source": [
    "df.info()"
   ]
  },
  {
   "cell_type": "code",
   "execution_count": 27,
   "metadata": {},
   "outputs": [],
   "source": [
    "for i in df.index[df['price'].isnull()]:\n",
    "    loc_pid = df.iloc[i, 9]\n",
    "    df.iat[i, 1] = df.loc[(df['loc_pid'] == loc_pid) & (~df['price'].isnull()), 'price'].median()"
   ]
  },
  {
   "cell_type": "code",
   "execution_count": 28,
   "metadata": {},
   "outputs": [
    {
     "name": "stdout",
     "output_type": "stream",
     "text": [
      "<class 'pandas.core.frame.DataFrame'>\n",
      "RangeIndex: 320334 entries, 0 to 320333\n",
      "Data columns (total 11 columns):\n",
      " #   Column         Non-Null Count   Dtype  \n",
      "---  ------         --------------   -----  \n",
      " 0   date_sold      320334 non-null  object \n",
      " 1   price          320313 non-null  float64\n",
      " 2   suburb         320334 non-null  object \n",
      " 3   city_name      320334 non-null  object \n",
      " 4   state          320334 non-null  object \n",
      " 5   lat            320334 non-null  float64\n",
      " 6   lon            320334 non-null  float64\n",
      " 7   bedrooms       320334 non-null  float64\n",
      " 8   property_type  320334 non-null  object \n",
      " 9   loc_pid        320334 non-null  object \n",
      " 10  lga_pid        320334 non-null  object \n",
      "dtypes: float64(4), object(7)\n",
      "memory usage: 26.9+ MB\n"
     ]
    }
   ],
   "source": [
    "df.info()"
   ]
  },
  {
   "cell_type": "code",
   "execution_count": 29,
   "metadata": {},
   "outputs": [],
   "source": [
    "df.loc[df['price'].isnull()] = df['price'].median()"
   ]
  },
  {
   "cell_type": "code",
   "execution_count": 30,
   "metadata": {},
   "outputs": [
    {
     "name": "stdout",
     "output_type": "stream",
     "text": [
      "<class 'pandas.core.frame.DataFrame'>\n",
      "RangeIndex: 320334 entries, 0 to 320333\n",
      "Data columns (total 11 columns):\n",
      " #   Column         Non-Null Count   Dtype  \n",
      "---  ------         --------------   -----  \n",
      " 0   date_sold      320334 non-null  object \n",
      " 1   price          320334 non-null  float64\n",
      " 2   suburb         320334 non-null  object \n",
      " 3   city_name      320334 non-null  object \n",
      " 4   state          320334 non-null  object \n",
      " 5   lat            320334 non-null  float64\n",
      " 6   lon            320334 non-null  float64\n",
      " 7   bedrooms       320334 non-null  float64\n",
      " 8   property_type  320334 non-null  object \n",
      " 9   loc_pid        320334 non-null  object \n",
      " 10  lga_pid        320334 non-null  object \n",
      "dtypes: float64(4), object(7)\n",
      "memory usage: 26.9+ MB\n"
     ]
    }
   ],
   "source": [
    "df.info()"
   ]
  },
  {
   "cell_type": "code",
   "execution_count": 31,
   "metadata": {},
   "outputs": [
    {
     "data": {
      "text/html": [
       "<div>\n",
       "<style scoped>\n",
       "    .dataframe tbody tr th:only-of-type {\n",
       "        vertical-align: middle;\n",
       "    }\n",
       "\n",
       "    .dataframe tbody tr th {\n",
       "        vertical-align: top;\n",
       "    }\n",
       "\n",
       "    .dataframe thead th {\n",
       "        text-align: right;\n",
       "    }\n",
       "</style>\n",
       "<table border=\"1\" class=\"dataframe\">\n",
       "  <thead>\n",
       "    <tr style=\"text-align: right;\">\n",
       "      <th></th>\n",
       "      <th>date_sold</th>\n",
       "      <th>price</th>\n",
       "      <th>suburb</th>\n",
       "      <th>city_name</th>\n",
       "      <th>state</th>\n",
       "      <th>lat</th>\n",
       "      <th>lon</th>\n",
       "      <th>bedrooms</th>\n",
       "      <th>property_type</th>\n",
       "      <th>loc_pid</th>\n",
       "      <th>lga_pid</th>\n",
       "    </tr>\n",
       "  </thead>\n",
       "  <tbody>\n",
       "    <tr>\n",
       "      <th>0</th>\n",
       "      <td>2018-09-18 00:00:00</td>\n",
       "      <td>1675000.0</td>\n",
       "      <td>Darling Point</td>\n",
       "      <td>Sydney</td>\n",
       "      <td>NSW</td>\n",
       "      <td>-33.869565</td>\n",
       "      <td>151.241317</td>\n",
       "      <td>3.0</td>\n",
       "      <td>unit</td>\n",
       "      <td>NSW1221</td>\n",
       "      <td>NSW180</td>\n",
       "    </tr>\n",
       "    <tr>\n",
       "      <th>1</th>\n",
       "      <td>2018-09-24 00:00:00</td>\n",
       "      <td>1675000.0</td>\n",
       "      <td>Darling Point</td>\n",
       "      <td>Sydney</td>\n",
       "      <td>NSW</td>\n",
       "      <td>-33.872179</td>\n",
       "      <td>151.239726</td>\n",
       "      <td>3.0</td>\n",
       "      <td>unit</td>\n",
       "      <td>NSW1221</td>\n",
       "      <td>NSW180</td>\n",
       "    </tr>\n",
       "    <tr>\n",
       "      <th>2</th>\n",
       "      <td>2018-09-26 00:00:00</td>\n",
       "      <td>1730000.0</td>\n",
       "      <td>Darling Point</td>\n",
       "      <td>Sydney</td>\n",
       "      <td>NSW</td>\n",
       "      <td>-33.868386</td>\n",
       "      <td>151.237471</td>\n",
       "      <td>2.0</td>\n",
       "      <td>unit</td>\n",
       "      <td>NSW1221</td>\n",
       "      <td>NSW180</td>\n",
       "    </tr>\n",
       "    <tr>\n",
       "      <th>3</th>\n",
       "      <td>2018-09-26 00:00:00</td>\n",
       "      <td>1928000.0</td>\n",
       "      <td>Darling Point</td>\n",
       "      <td>Sydney</td>\n",
       "      <td>NSW</td>\n",
       "      <td>-33.875465</td>\n",
       "      <td>151.236280</td>\n",
       "      <td>3.0</td>\n",
       "      <td>unit</td>\n",
       "      <td>NSW1221</td>\n",
       "      <td>NSW180</td>\n",
       "    </tr>\n",
       "    <tr>\n",
       "      <th>4</th>\n",
       "      <td>2018-10-02 00:00:00</td>\n",
       "      <td>1475000.0</td>\n",
       "      <td>Darling Point</td>\n",
       "      <td>Sydney</td>\n",
       "      <td>NSW</td>\n",
       "      <td>-33.875734</td>\n",
       "      <td>151.233575</td>\n",
       "      <td>3.0</td>\n",
       "      <td>unit</td>\n",
       "      <td>NSW1221</td>\n",
       "      <td>NSW180</td>\n",
       "    </tr>\n",
       "  </tbody>\n",
       "</table>\n",
       "</div>"
      ],
      "text/plain": [
       "             date_sold      price         suburb city_name state        lat  \\\n",
       "0  2018-09-18 00:00:00  1675000.0  Darling Point    Sydney   NSW -33.869565   \n",
       "1  2018-09-24 00:00:00  1675000.0  Darling Point    Sydney   NSW -33.872179   \n",
       "2  2018-09-26 00:00:00  1730000.0  Darling Point    Sydney   NSW -33.868386   \n",
       "3  2018-09-26 00:00:00  1928000.0  Darling Point    Sydney   NSW -33.875465   \n",
       "4  2018-10-02 00:00:00  1475000.0  Darling Point    Sydney   NSW -33.875734   \n",
       "\n",
       "          lon  bedrooms property_type  loc_pid lga_pid  \n",
       "0  151.241317       3.0          unit  NSW1221  NSW180  \n",
       "1  151.239726       3.0          unit  NSW1221  NSW180  \n",
       "2  151.237471       2.0          unit  NSW1221  NSW180  \n",
       "3  151.236280       3.0          unit  NSW1221  NSW180  \n",
       "4  151.233575       3.0          unit  NSW1221  NSW180  "
      ]
     },
     "execution_count": 31,
     "metadata": {},
     "output_type": "execute_result"
    }
   ],
   "source": [
    "df.head()"
   ]
  },
  {
   "cell_type": "code",
   "execution_count": 32,
   "metadata": {},
   "outputs": [],
   "source": [
    "df.to_csv(PREPARED_DATASET_PATH)"
   ]
  },
  {
   "cell_type": "code",
   "execution_count": null,
   "metadata": {},
   "outputs": [],
   "source": []
  }
 ],
 "metadata": {
  "kernelspec": {
   "display_name": "Python 3",
   "language": "python",
   "name": "python3"
  },
  "language_info": {
   "codemirror_mode": {
    "name": "ipython",
    "version": 3
   },
   "file_extension": ".py",
   "mimetype": "text/x-python",
   "name": "python",
   "nbconvert_exporter": "python",
   "pygments_lexer": "ipython3",
   "version": "3.8.3"
  }
 },
 "nbformat": 4,
 "nbformat_minor": 4
}
